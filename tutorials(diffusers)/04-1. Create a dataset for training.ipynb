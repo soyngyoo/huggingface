{
 "cells": [
  {
   "cell_type": "markdown",
   "id": "e839b95f-5c8e-4bdb-95e1-60f829ffafed",
   "metadata": {},
   "source": [
    "# 이미지-캡션 쌍 데이터셋 만들기 및 사용하기 튜토리얼\n",
    "\n",
    "출처 : https://huggingface.co/docs/diffusers/training/create_dataset"
   ]
  },
  {
   "cell_type": "markdown",
   "id": "f40b8d11-2d9c-4bec-bf87-92b43e62619b",
   "metadata": {},
   "source": [
    "(24.07.23, 작성자 유소영)\n",
    "\n",
    "**1. 소개** : 이미지-캡션 쌍 데이터셋은 이미지와 그에 해당하는 설명(캡션)을 쌍으로 묶은 데이터셋임. \\\n",
    "**2. 데이터셋 구조 설명** : 이미지-캡션 쌍 데이터셋의 일반적인 구조는 다음과 같다:\n",
    "    \n",
    "```\n",
    "dataset_folder/\n",
    "    ├── train/\n",
    "    │   ├── metadata.jsonl\n",
    "    │   ├── image1.jpg\n",
    "    │   ├── image2.jpg\n",
    "    │   └── ...\n",
    "    └── validation/\n",
    "        ├── metadata.jsonl\n",
    "        ├── image1.jpg\n",
    "        ├── image2.jpg\n",
    "        └── ...\n",
    "\n",
    "```\n",
    "\n",
    "<u> 여기서 metadata.jsonl 파일은 각 이미지에 대한 캡션 정보를 포함하고 있음. </u>\n",
    "\n",
    "```\n",
    "{\"file_name\": \"image1.jpg\", \"text\": \"A cat sitting on a windowsill\"}\n",
    "{\"file_name\": \"image2.jpg\", \"text\": \"A dog running in the park\"}\n",
    "\n",
    "```\n",
    "\n",
    "    각 줄은 JSON 객체로, file_name은 이미지 파일의 이름을, text는 해당 이미지의 캡션을 나타냄.\n",
    "\n",
    "\n",
    "**3. metadata.jsonl** 파일 생성 방법: \n",
    "- **수동 생성 방법** : 작은 데이터셋의 경우, 텍스트 편집기를 사용하여 직접 metadata.jsonl 파일을 만들 수 있습니다. 각 줄에 JSON 형식으로 파일 이름과 캡션을 입력하면 됩니다.\n",
    "- **자동화 스크립트 예시** : 대규모 데이터셋의 경우, Python 스크립트를 사용하여 metadata.jsonl 파일을 자동으로 생성할 수 있습니다. ***다음은 간단한 예시 스크립트입니다***:"
   ]
  },
  {
   "cell_type": "code",
   "execution_count": null,
   "id": "ba89ff33-246b-4836-840c-940f0a48bf90",
   "metadata": {},
   "outputs": [],
   "source": [
    "import os\n",
    "import json\n",
    "from pathlib import Path\n",
    "import matplotlib.pyplot as plt\n",
    "from PIL import Image\n",
    "\n",
    "def create_metadata_jsonl(folder_path):\n",
    "    image_extensions = ['.png', '.jpg', '.jpeg', '.gif', '.bmp']\n",
    "    metadata = []\n",
    "\n",
    "    # 폴더 내의 모든 이미지 파일 찾기\n",
    "    image_files = [f for f in os.listdir(folder_path) if any(f.lower().endswith(ext) for ext in image_extensions)]\n",
    "\n",
    "    for i, file in enumerate(image_files):\n",
    "        file_path = os.path.join(folder_path, file)\n",
    "        \n",
    "        # 이미지 표시\n",
    "        #img = Image.open(file_path)\n",
    "        #img = img.resize((200,200))\n",
    "        #img.show()\n",
    "        \n",
    "        # 사용자로부터 이미지 캡션 입력 받기\n",
    "        caption = input(f\"Enter caption for {file} (or 'q' to quit): \")\n",
    "\n",
    "        if caption.lower() == 'q':\n",
    "            break\n",
    "        \n",
    "        # 메타데이터 딕셔너리 생성\n",
    "        metadata_item = {\n",
    "            \"file_name\": file,\n",
    "            \"text\": caption\n",
    "        }\n",
    "        metadata.append(metadata_item)\n",
    "\n",
    "    # metadata.jsonl 파일 생성\n",
    "    output_path = os.path.join(folder_path, \"metadata.jsonl\")\n",
    "    with open(output_path, 'w', encoding='utf-8') as f:\n",
    "        for item in metadata:\n",
    "            f.write(json.dumps(item, ensure_ascii=False) + '\\n')\n",
    "\n",
    "    print(f\"metadata.jsonl has been created at {output_path}\")\n",
    "    \n",
    "folder_path = './data/train/Wheel/'\n",
    "create_metadata_jsonl(folder_path)"
   ]
  },
  {
   "cell_type": "markdown",
   "id": "4e629916-0adf-4f98-8d00-026c2c20ef3f",
   "metadata": {},
   "source": [
    "**4. Hugging Face datasets 라이브러리를 사용한 데이터셋 로드**\n",
    "\n",
    "   Hugging Face의 datasets 라이브러리는 ImageFolder 기능을 통해 이미지-캡션 쌍 데이터셋을 쉽게 로드할 수 있게 해줍니다.\n",
    "   \n",
    "   ImageFolder 사용 방법\n",
    "   먼저, datasets 라이브러리를 설치합니다:\n",
    "\n",
    "```\n",
    "pip install datasets\n",
    "```\n",
    "\n",
    "   그런 다음, 아래 스크립트를 통해 ***로컬에 저장된 데이터셋***을 로드할 수 있습니다:"
   ]
  },
  {
   "cell_type": "code",
   "execution_count": null,
   "id": "f27527f9-b4ab-4216-a6d3-baa311263b22",
   "metadata": {},
   "outputs": [],
   "source": [
    "from datasets import load_dataset\n",
    "\n",
    "# 데이터셋 로드\n",
    "dataset = load_dataset(\"./data/\")\n",
    "\n",
    "# 이미지와 캡션 출력\n",
    "import matplotlib.pyplot as plt"
   ]
  },
  {
   "cell_type": "code",
   "execution_count": null,
   "id": "51ec8582-ccc1-43b4-a7e4-49e163fbb33c",
   "metadata": {},
   "outputs": [],
   "source": [
    "for i in range(10):\n",
    "    sample = dataset['train'][i]\n",
    "    plt.imshow(sample['image'])\n",
    "    plt.axis('off')\n",
    "    plt.title(sample['text'])\n",
    "    plt.show()"
   ]
  }
 ],
 "metadata": {
  "kernelspec": {
   "display_name": "Python 3 (ipykernel)",
   "language": "python",
   "name": "python3"
  },
  "language_info": {
   "codemirror_mode": {
    "name": "ipython",
    "version": 3
   },
   "file_extension": ".py",
   "mimetype": "text/x-python",
   "name": "python",
   "nbconvert_exporter": "python",
   "pygments_lexer": "ipython3",
   "version": "3.10.12"
  }
 },
 "nbformat": 4,
 "nbformat_minor": 5
}
