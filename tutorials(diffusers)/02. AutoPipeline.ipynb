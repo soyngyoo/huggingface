{
 "cells": [
  {
   "cell_type": "markdown",
   "id": "b6fdd333-8649-446b-8e9d-5eb684b595aa",
   "metadata": {},
   "source": [
    "# AutoPipeline\n",
    "\n",
    "- 작성일 : 24.07.30  \n",
    "- 작성자 : 유소영  \n",
    "- 출처 : https://huggingface.co/docs/diffusers/tutorials/basic_training\n"
   ]
  },
  {
   "cell_type": "markdown",
   "id": "61fb6d16-038a-4ea9-bc68-243bbab96f7d",
   "metadata": {},
   "source": [
    "Diffusers는 이미지, 비디오, 오디오 생성 및 인페인팅과 같은 기본 작업을 위한 다양한 파이프라인을 제공합니다. \n",
    "\n",
    "이외에도 업스케일링, 초해상도 등의 기능을 위한 특수 파이프라인도 있습니다. 서로 다른 파이프라인 클래스가 동일한 사전 훈련된 모델을 공유하기 때문에 같은 체크포인트를 사용할 수도 있습니다. 이렇게 다양한 파이프라인이 있어 어떤 파이프라인 클래스를 사용해야 할지 결정하기 어려울 수 있습니다. AutoPipeline 클래스는 Diffusers의 다양한 파이프라인을 단순화하기 위해 설계되었습니다.   \n",
    "\n",
    "이는 작업 중심의 일반적인 파이프라인으로, 특정 파이프라인 클래스를 알 필요 없이 작업(AutoPipelineForText2Image, AutoPipelineForImage2Image, AutoPipelineForInpainting)에 집중할 수 있게 해줍니다. \n",
    "  \n",
    "AutoPipeline은 자동으로 올바른 파이프라인 클래스를 감지하여 사용합니다.\n",
    "예를 들어, dreamlike-art/dreamlike-photoreal-2.0 체크포인트를 사용해 보겠습니다.\n",
    "내부적으로 AutoPipeline은 다음과 같이 작동합니다:\n",
    "\n",
    "**model_index.json 파일에서 \"stable-diffusion\" 클래스를 감지합니다.**\n",
    "\n",
    "원하는 작업에 따라 <u>(1) StableDiffusionPipeline, (2) StableDiffusionImg2ImgPipeline, 또는 (3) StableDiffusionInpaintPipeline을 로드합니다.</u>\n",
    "\n",
    "이러한 특정 파이프라인에 전달할 수 있는 모든 매개변수(strength, num_inference_steps 등)를 \n",
    "AutoPipeline에도 전달할 수 있습니다.\n",
    "\n",
    "**주요 작업:**\n",
    "\n",
    "- 텍스트-이미지 변환 (text-to-image)\n",
    "- 이미지-이미지 변환 (image-to-image)\n",
    "- 인페인팅 (inpainting)\n"
   ]
  },
  {
   "cell_type": "code",
   "execution_count": null,
   "id": "dd5a3205-4320-4c65-be6a-6fe342958d50",
   "metadata": {},
   "outputs": [],
   "source": [
    "# text-to-text"
   ]
  },
  {
   "cell_type": "code",
   "execution_count": null,
   "id": "e1319326-bbe4-4b0a-9105-9401d68b2c5c",
   "metadata": {},
   "outputs": [],
   "source": [
    "from diffusers import AutoPipelineForText2Image\n",
    "import torch\n",
    "\n",
    "pipe_txt2img = AutoPipelineForText2Image.from_pretrained(\n",
    "    \"dreamlike-art/dreamlike-photoreal-2.0\", torch_dtype=torch.float16, use_safetensors=True\n",
    ").to(\"cuda\")\n",
    "\n",
    "prompt = \"cinematic photo of Godzilla eating sushi with a cat in a izakaya, 35mm photograph, film, professional, 4k, highly detailed\"\n",
    "generator = torch.Generator(device=\"cpu\").manual_seed(37)\n",
    "image = pipe_txt2img(prompt, generator=generator).images[0]\n",
    "image"
   ]
  },
  {
   "cell_type": "code",
   "execution_count": null,
   "id": "bc4af7b6-8ab8-4cda-8e53-047a652a7323",
   "metadata": {},
   "outputs": [],
   "source": [
    "#  image-to-image "
   ]
  },
  {
   "cell_type": "code",
   "execution_count": null,
   "id": "742986dd-9007-4bf2-9259-851303f76de2",
   "metadata": {},
   "outputs": [],
   "source": [
    "from diffusers import AutoPipelineForImage2Image\n",
    "from diffusers.utils import load_image\n",
    "import torch\n",
    "\n",
    "pipe_img2img = AutoPipelineForImage2Image.from_pretrained(\n",
    "    \"dreamlike-art/dreamlike-photoreal-2.0\", torch_dtype=torch.float16, use_safetensors=True\n",
    ").to(\"cuda\")\n",
    "\n",
    "init_image = load_image(\"https://huggingface.co/datasets/huggingface/documentation-images/resolve/main/diffusers/autopipeline-text2img.png\")\n",
    "\n",
    "prompt = \"cinematic photo of Godzilla eating burgers with a man in a fast food restaurant, 35mm photograph, film, professional, 4k, highly detailed\"\n",
    "generator = torch.Generator(device=\"cpu\").manual_seed(53)\n",
    "image = pipe_img2img(prompt, image=init_image, generator=generator).images[0]\n",
    "\n",
    "init_image.show()\n",
    "\n",
    "print(prompt)\n",
    "image.show()"
   ]
  },
  {
   "cell_type": "code",
   "execution_count": null,
   "id": "92aa4d84-7ef8-4c03-abc9-a21f88f555d5",
   "metadata": {},
   "outputs": [],
   "source": []
  }
 ],
 "metadata": {
  "kernelspec": {
   "display_name": "Python 3 (ipykernel)",
   "language": "python",
   "name": "python3"
  },
  "language_info": {
   "codemirror_mode": {
    "name": "ipython",
    "version": 3
   },
   "file_extension": ".py",
   "mimetype": "text/x-python",
   "name": "python",
   "nbconvert_exporter": "python",
   "pygments_lexer": "ipython3",
   "version": "3.10.12"
  }
 },
 "nbformat": 4,
 "nbformat_minor": 5
}
